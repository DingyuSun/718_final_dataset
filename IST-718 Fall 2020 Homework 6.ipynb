{
 "cells": [
  {
   "cell_type": "markdown",
   "metadata": {
    "id": "bLmKS5AHyPcb"
   },
   "source": [
    "##### Grading Feedback"
   ]
  },
  {
   "cell_type": "markdown",
   "metadata": {
    "id": "8uYE_aKFvp1N"
   },
   "source": [
    "# IST 718: Big Data Analytics\n",
    "\n",
    "- Professor: Willard Williamson <wewillia@syr.edu>\n",
    "- Faculty Assistant: Vidushi Mishra <vmishr01@syr.edu>\n",
    "- Faculty Assistant: Pranav Kottoli Radhakrishna <pkottoli@syr.edu>\n",
    "## General instructions:\n",
    "\n",
    "- You are welcome to discuss the problems with your classmates but __you are not allowed to copy any part of your answers from your classmates.  Short code snippets are allowed from the internet.  Code from the class text books or class provided code can be copied in its entirety.__\n",
    "- Do not modify cells marked as grading cells or marked as do not modify.\n",
    "- Before submitting your work, remember to check for run time errors with the following procedure:\n",
    "`Runtime `$\\rightarrow$ Factory reset runtime followed by Runtime $\\rightarrow$ Run All.  All runtime errors will result in a minimum penalty of half off.\n",
    "- Google Colab is the official class runtime environment so you should test your code on Colab before submission.\n",
    "- All plots shall include descriptive title and axis labels.  Plot legends shall be included where possible.  Unless stated otherwise, plots can be made using any Python plotting package.  It is understood that spark data structures must be converted to something like numpy or pandas prior to making plots.  All required mathematical operations, filtering, selection, etc., required by a homework question shall be performed in spark prior to converting to numpy or pandas.\n",
    "- Grading feedback cells are there for graders to provide feedback to students.  Don't change or remove grading feedback cells.\n",
    "- Don't add or remove files from your git repo.\n",
    "- Do not change file names in your repo.  This also means don't change the title of the ipython notebook.\n",
    "- You are free to add additional code cells around the cells marked `your code here`.\n",
    "- We reserve the right to take points off for operations that are extremely inefficient or \"heavy weight\".  This is a big data class and extremely inefficient operations make a big difference when scaling up to large data sets.  For example, the spark dataframe collect() method is a very heavy weight operation and should not be used unless it there is a real need for it.  An example where collect() might be needed is to get ready to make a plot after filtering a spark dataframe.\n",
    "- import * is not allowed because it is considered a very bad coding practice and in some cases can result in a significant delay (which slows down the grading process) in loading imports.  For example, the statement `from sympy import *` is not allowed.  You must import the specific packages that you need. \n",
    "- The graders reserve the right to deduct points for subjective things we see with your code.  For example, if we ask you to create a pandas data frame to display values from an investigation and you hard code the values, we will take points off for that.  This is only one of many different things we could find in reviewing your code.  In general, write your code like you are submitting it for a code peer review in industry.  \n",
    "- Level of effort is part of our subjective grading.  For example, in cases where we ask for a more open ended investigation, some students put in significant effort and some students do the minimum possible to meet requirements.  In these cases, we may take points off for students who did not put in much effort as compared to students who put in a lot of effort.  We feel that the students who did a better job deserve a better grade.  We reserve the right to invoke level of effort grading at any time.\n",
    "- Only use spark, spark machine learning, spark data frames, RDD's, and map reduce to solve all problems unless instructed otherwise.\n",
    "- Your notebook must run from start to finish without requiring manual input by the graders.  For example, do not mount your personal Google drive in your notebook as this will require graders to perform manual steps.  In short, your notebook should run from start to finish with no runtime errors and no need for graders to perform any manual steps.\n"
   ]
  },
  {
   "cell_type": "markdown",
   "metadata": {
    "id": "KEjZ4Xye6uLh"
   },
   "source": [
    "## Note that this notebook is expected to run in the Google Colab environment.  All grading for this assignment will take place exclusively in Google Colab."
   ]
  },
  {
   "cell_type": "markdown",
   "metadata": {
    "id": "bZzy57K4yPce"
   },
   "source": [
    "This homework proves that diamonds are forever.  In homework 3, we used linear regression to predict diamond prices and evaluated model performance using MSE as the scoring metric.  In this homework, we are going to use the same diamonds data set but this time use decision trees and deep learning to see if we can improve upon the linear regression performance from homework 3."
   ]
  },
  {
   "cell_type": "markdown",
   "metadata": {
    "id": "yP2FPt6_1TWi"
   },
   "source": [
    "# Diamonds Data\n",
    "Just to prove that diamonds are forever, we are going to revisit the diamonds data set.  This homework assignment will use the diamonds dataset to explore random forest decision tree models.\n",
    "\n",
    "The diamonds.csv data set contains 10 columns:\n",
    "- carat: Carat weight of the diamond\n",
    "- cut: Describes cut quality of the diamond. Quality in increasing order Fair, Good, Very Good, Premium, Ideal\n",
    "- color: Color of the diamond, with D being the best and J the worst\n",
    "- clarity: How obvious inclusions are within the diamond:(in order from best to worst, FL = flawless, I3= level 3 inclusions) FL,IF, VVS1, etc.  See this web site for an exhaustive ranking of [clarity](https://4cs.gia.edu/en-us/diamond-clarity/?gclid=Cj0KCQjwnqH7BRDdARIsACTSAduMoc2KQbXkO94BxCfBNC5X8YyjAYcFpWThKQMW46cQj_3p0pZ0o84aAuagEALw_wcB).  The web site has a nice sliding scale you can drag to see the relationship between clarity grades.\n",
    "- depth: depth % - The height of a diamond, measured from the culet to the table, divided by its average girdle diameter\n",
    "- table: table% -  The width of the diamond's table expressed as a percentage of its average diameter\n",
    "- price: The price of the diamond\n",
    "- x: Length (mm)\n",
    "- y: Width (mm)\n",
    "- z: Height (mm)"
   ]
  },
  {
   "cell_type": "code",
   "execution_count": 1,
   "metadata": {
    "id": "hZxH4JRN3Vcj"
   },
   "outputs": [],
   "source": [
    "# Grading Cell\n",
    "enable_grid_search = False"
   ]
  },
  {
   "cell_type": "markdown",
   "metadata": {
    "id": "pDW3ScIk2Q_H"
   },
   "source": [
    "The following cell is used to read the diamonds data set into the colab environment.  Do not change or modify the following cell."
   ]
  },
  {
   "cell_type": "code",
   "execution_count": 2,
   "metadata": {
    "colab": {
     "base_uri": "https://localhost:8080/"
    },
    "id": "8NFmfL6uv56m",
    "outputId": "e9627eb7-82c8-434e-9dd8-59629447e527"
   },
   "outputs": [
    {
     "name": "stdout",
     "output_type": "stream",
     "text": [
      "Collecting pyspark\n",
      "  Downloading https://files.pythonhosted.org/packages/f0/26/198fc8c0b98580f617cb03cb298c6056587b8f0447e20fa40c5b634ced77/pyspark-3.0.1.tar.gz (204.2MB)\n",
      "Collecting py4j==0.10.9\n",
      "  Downloading https://files.pythonhosted.org/packages/9e/b6/6a4fb90cd235dc8e265a6a2067f2a2c99f0d91787f06aca4bcf7c23f3f80/py4j-0.10.9-py2.py3-none-any.whl (198kB)\n",
      "Building wheels for collected packages: pyspark\n",
      "  Building wheel for pyspark (setup.py): started\n",
      "  Building wheel for pyspark (setup.py): finished with status 'done'\n",
      "  Created wheel for pyspark: filename=pyspark-3.0.1-py2.py3-none-any.whl size=204612243 sha256=08e2a39e9b9a6d38da88ce0dc1412a18ba93662a855ef35b54b5000ff995fe2a\n",
      "  Stored in directory: /root/.cache/pip/wheels/5e/bd/07/031766ca628adec8435bb40f0bd83bb676ce65ff4007f8e73f\n",
      "Successfully built pyspark\n",
      "Installing collected packages: py4j, pyspark\n",
      "Successfully installed py4j-0.10.9 pyspark-3.0.1\n"
     ]
    },
    {
     "name": "stderr",
     "output_type": "stream",
     "text": [
      "--2020-11-23 01:39:59--  https://raw.githubusercontent.com/wewilli1/ist718_data/master/diamonds.csv\n",
      "Resolving raw.githubusercontent.com (raw.githubusercontent.com)... 151.101.0.133, 151.101.64.133, 151.101.128.133, ...\n",
      "Connecting to raw.githubusercontent.com (raw.githubusercontent.com)|151.101.0.133|:443... connected.\n",
      "HTTP request sent, awaiting response... 200 OK\n",
      "Length: 3192560 (3.0M) [text/plain]\n",
      "Saving to: ‘diamonds.csv’\n",
      "\n",
      "     0K .......... .......... .......... .......... ..........  1% 3.99M 1s\n",
      "    50K .......... .......... .......... .......... ..........  3% 8.72M 1s\n",
      "   100K .......... .......... .......... .......... ..........  4% 5.28M 1s\n",
      "   150K .......... .......... .......... .......... ..........  6% 16.7M 0s\n",
      "   200K .......... .......... .......... .......... ..........  8% 6.80M 0s\n",
      "   250K .......... .......... .......... .......... ..........  9% 23.8M 0s\n",
      "   300K .......... .......... .......... .......... .......... 11% 40.9M 0s\n",
      "   350K .......... .......... .......... .......... .......... 12% 35.0M 0s\n",
      "   400K .......... .......... .......... .......... .......... 14% 29.3M 0s\n",
      "   450K .......... .......... .......... .......... .......... 16% 24.2M 0s\n",
      "   500K .......... .......... .......... .......... .......... 17% 8.91M 0s\n",
      "   550K .......... .......... .......... .......... .......... 19% 34.3M 0s\n",
      "   600K .......... .......... .......... .......... .......... 20% 20.0M 0s\n",
      "   650K .......... .......... .......... .......... .......... 22% 22.1M 0s\n",
      "   700K .......... .......... .......... .......... .......... 24% 28.6M 0s\n",
      "   750K .......... .......... .......... .......... .......... 25% 41.8M 0s\n",
      "   800K .......... .......... .......... .......... .......... 27% 10.1M 0s\n",
      "   850K .......... .......... .......... .......... .......... 28% 35.8M 0s\n",
      "   900K .......... .......... .......... .......... .......... 30% 30.3M 0s\n",
      "   950K .......... .......... .......... .......... .......... 32% 22.0M 0s\n",
      "  1000K .......... .......... .......... .......... .......... 33% 46.4M 0s\n",
      "  1050K .......... .......... .......... .......... .......... 35% 19.4M 0s\n",
      "  1100K .......... .......... .......... .......... .......... 36% 14.3M 0s\n",
      "  1150K .......... .......... .......... .......... .......... 38% 27.9M 0s\n",
      "  1200K .......... .......... .......... .......... .......... 40% 24.2M 0s\n",
      "  1250K .......... .......... .......... .......... .......... 41% 32.5M 0s\n",
      "  1300K .......... .......... .......... .......... .......... 43% 25.5M 0s\n",
      "  1350K .......... .......... .......... .......... .......... 44% 31.6M 0s\n",
      "  1400K .......... .......... .......... .......... .......... 46% 13.6M 0s\n",
      "  1450K .......... .......... .......... .......... .......... 48% 27.2M 0s\n",
      "  1500K .......... .......... .......... .......... .......... 49% 44.0M 0s\n",
      "  1550K .......... .......... .......... .......... .......... 51% 23.1M 0s\n",
      "  1600K .......... .......... .......... .......... .......... 52% 30.7M 0s\n",
      "  1650K .......... .......... .......... .......... .......... 54% 24.0M 0s\n",
      "  1700K .......... .......... .......... .......... .......... 56% 32.8M 0s\n",
      "  1750K .......... .......... .......... .......... .......... 57% 15.7M 0s\n",
      "  1800K .......... .......... .......... .......... .......... 59% 33.9M 0s\n",
      "  1850K .......... .......... .......... .......... .......... 60% 29.8M 0s\n",
      "  1900K .......... .......... .......... .......... .......... 62% 24.9M 0s\n",
      "  1950K .......... .......... .......... .......... .......... 64% 42.4M 0s\n",
      "  2000K .......... .......... .......... .......... .......... 65% 28.6M 0s\n",
      "  2050K .......... .......... .......... .......... .......... 67% 44.2M 0s\n",
      "  2100K .......... .......... .......... .......... .......... 68% 13.0M 0s\n",
      "  2150K .......... .......... .......... .......... .......... 70% 48.8M 0s\n",
      "  2200K .......... .......... .......... .......... .......... 72% 26.9M 0s\n",
      "  2250K .......... .......... .......... .......... .......... 73% 18.6M 0s\n",
      "  2300K .......... .......... .......... .......... .......... 75% 89.2M 0s\n",
      "  2350K .......... .......... .......... .......... .......... 76% 27.9M 0s\n",
      "  2400K .......... .......... .......... .......... .......... 78% 50.5M 0s\n",
      "  2450K .......... .......... .......... .......... .......... 80% 14.2M 0s\n",
      "  2500K .......... .......... .......... .......... .......... 81% 28.9M 0s\n",
      "  2550K .......... .......... .......... .......... .......... 83% 43.8M 0s\n",
      "  2600K .......... .......... .......... .......... .......... 84% 47.5M 0s\n",
      "  2650K .......... .......... .......... .......... .......... 86% 20.0M 0s\n",
      "  2700K .......... .......... .......... .......... .......... 88% 26.8M 0s\n",
      "  2750K .......... .......... .......... .......... .......... 89% 49.9M 0s\n",
      "  2800K .......... .......... .......... .......... .......... 91% 18.3M 0s\n",
      "  2850K .......... .......... .......... .......... .......... 93% 40.0M 0s\n",
      "  2900K .......... .......... .......... .......... .......... 94% 31.0M 0s\n",
      "  2950K .......... .......... .......... .......... .......... 96% 44.0M 0s\n",
      "  3000K .......... .......... .......... .......... .......... 97% 18.1M 0s\n",
      "  3050K .......... .......... .......... .......... .......... 99% 61.8M 0s\n",
      "  3100K .......... .......                                    100% 39.2M=0.1s\n",
      "\n",
      "2020-11-23 01:40:00 (20.7 MB/s) - ‘diamonds.csv’ saved [3192560/3192560]\n",
      "\n"
     ]
    }
   ],
   "source": [
    "%%bash\n",
    "# Do not change or modify this file\n",
    "# Need to install pyspark\n",
    "# if pyspark is already installed, will print a message indicating pyspark already isntalled\n",
    "pip install pyspark\n",
    "\n",
    "# Download the data files from github\n",
    "# If the data file does not exist in the colab environment\n",
    "if [[ ! -f ./quotes_by_char.csv ]]; then \n",
    "   # download the data file from github and save it in this colab environment instance\n",
    "   wget https://raw.githubusercontent.com/wewilli1/ist718_data/master/diamonds.csv  \n",
    "fi"
   ]
  },
  {
   "cell_type": "code",
   "execution_count": 3,
   "metadata": {
    "colab": {
     "base_uri": "https://localhost:8080/"
    },
    "id": "xYAbXxV5ncAT",
    "outputId": "1224ecf3-51cc-4c87-816a-72032848b2c0"
   },
   "outputs": [
    {
     "name": "stdout",
     "output_type": "stream",
     "text": [
      "3.0.1\n"
     ]
    }
   ],
   "source": [
    "import os\n",
    "from pyspark.sql import SparkSession\n",
    "\n",
    "# Thanks to Brian Schramke for the following spark session code\n",
    "MAX_MEMORY = \"12g\"\n",
    "\n",
    "spark = SparkSession \\\n",
    "  .builder \\\n",
    "  .master(\"local[*]\")\\\n",
    "  .config(\"spark.memory.fraction\", 0.8) \\\n",
    "  .config(\"spark.executor.memory\", MAX_MEMORY) \\\n",
    "  .config(\"spark.driver.memory\", MAX_MEMORY)\\\n",
    "  .config(\"spark.memory.offHeap.enabled\",'true')\\\n",
    "  .config(\"spark.memory.offHeap.size\",MAX_MEMORY)\\\n",
    "  .getOrCreate()\n",
    "\n",
    "sc = spark.sparkContext\n",
    "\n",
    "import matplotlib.pyplot as plt\n",
    "from pyspark.ml import clustering\n",
    "from pyspark.ml import feature, regression, evaluation, Pipeline\n",
    "from pyspark.sql import SparkSession\n",
    "from pyspark.sql import SQLContext\n",
    "import numpy as np\n",
    "import pandas as pd\n",
    "from pyspark.sql.functions import *\n",
    "from pyspark.ml.feature import StringIndexerModel\n",
    "sqlContext = SQLContext(sc)\n",
    "from pyspark.ml.regression import RandomForestRegressor\n",
    "from pyspark.ml.feature import VectorAssembler\n",
    "from pyspark.ml.evaluation import RegressionEvaluator\n",
    "from pyspark.ml.regression import GBTRegressor\n",
    "from pyspark.ml.tuning import ParamGridBuilder, CrossValidator\n",
    "\n",
    "print(sc.version)"
   ]
  },
  {
   "cell_type": "markdown",
   "metadata": {
    "id": "LgVybwMy2zfd"
   },
   "source": [
    "# Question 0 (0 pts)\n",
    "Please provide the following the data so we can easily correlate your notebook with the grade book:\n",
    "- Your Name: Dingyu Sun\n",
    "- Your github user name: DingyuSun\n",
    "- Your SU email address: dsun11@syr.edu"
   ]
  },
  {
   "cell_type": "markdown",
   "metadata": {
    "id": "YFz91GzJ4XFj"
   },
   "source": [
    "Your grade for grid search problems in this assignment will be determined in part on level of effort and your model performance results as compared to other students in the class."
   ]
  },
  {
   "cell_type": "markdown",
   "metadata": {
    "id": "p2XNxzBB2aZU"
   },
   "source": [
    "# Question 1 (10 pts)\n",
    "Read the diamonds.csv file into a spark data frame named `diamonds_df`.  Perform feature engineering as needed for training decision trees.  Name the new data frame diamonds_df_xformed."
   ]
  },
  {
   "cell_type": "code",
   "execution_count": 4,
   "metadata": {
    "id": "FYtA8Bkw3Aq1"
   },
   "outputs": [],
   "source": [
    "# your code here\n",
    "diamonds_df = spark.read.format(\"csv\").option(\"header\",\"true\").load(\"diamonds.csv\")\n",
    "\n",
    "diamonds_df = diamonds_df.selectExpr(\"cast(price as Float) price\",\n",
    "                                     \"cast(carat as Float) carat\",\n",
    "                                     \"cast(cut as String) cut\",\n",
    "                                     \"cast(color as String) color\",\n",
    "                                     \"cast(clarity as String) clarity\",\n",
    "                                     \"cast(depth as Float) depth\",\n",
    "                                     \"cast(table as Integer) table\",\n",
    "                                    \"cast(x as Float) x\",\n",
    "                                    \"cast(y as Float) y\",\n",
    "                                    \"cast(z as Float) z\")\n"
   ]
  },
  {
   "cell_type": "code",
   "execution_count": 5,
   "metadata": {
    "id": "9EdJ5zJtuOop"
   },
   "outputs": [],
   "source": [
    "# transform the variable from categorical to numerical variable\n",
    "trans1 = StringIndexerModel.from_labels(['Fair', 'Good', 'Very Good','Premium', 'Ideal'],inputCol=\"cut\",outputCol=\"cut_idx\")\n",
    "trans2 = StringIndexerModel.from_labels(['J', 'I', 'H', 'G', 'F', 'E', 'D'],inputCol=\"color\",outputCol=\"color_idx\")\n",
    "trans3 = StringIndexerModel.from_labels(['I1', 'SI2', 'SI1','VS2','VS1', 'VVS2', 'VVS1', 'IF'],inputCol=\"clarity\",outputCol=\"clarity_idx\")\n",
    "\n",
    "transformationPipeline = Pipeline().setStages([trans1, trans2, trans3])\n",
    "\n",
    "fittedPipeline = transformationPipeline.fit(diamonds_df)\n",
    "\n",
    "transformedTraining = fittedPipeline.transform(diamonds_df)\n",
    "transformedTraining = transformedTraining.withColumn(\"log_price\", log(\"price\"))"
   ]
  },
  {
   "cell_type": "code",
   "execution_count": 6,
   "metadata": {
    "colab": {
     "base_uri": "https://localhost:8080/"
    },
    "id": "3N29swHuqzVr",
    "outputId": "ed3f669c-3592-496c-9397-720122c6f78d"
   },
   "outputs": [
    {
     "name": "stdout",
     "output_type": "stream",
     "text": [
      "+-----+-----+-----+----+----+----+---+-----+-------+------------------+\n",
      "|carat|depth|table|   x|   y|   z|cut|color|clarity|             price|\n",
      "+-----+-----+-----+----+----+----+---+-----+-------+------------------+\n",
      "| 0.23| 61.5|   55|3.95|3.98|2.43|4.0|  5.0|    1.0| 5.786897381366708|\n",
      "| 0.21| 59.8|   61|3.89|3.84|2.31|3.0|  5.0|    2.0| 5.786897381366708|\n",
      "| 0.23| 56.9|   65|4.05|4.07|2.31|1.0|  5.0|    4.0|5.7899601708972535|\n",
      "| 0.29| 62.4|   58| 4.2|4.23|2.63|3.0|  1.0|    3.0|   5.8111409929767|\n",
      "| 0.31| 63.3|   58|4.34|4.35|2.75|1.0|  0.0|    1.0| 5.814130531825066|\n",
      "| 0.24| 62.8|   57|3.94|3.96|2.48|2.0|  0.0|    5.0| 5.817111159963204|\n",
      "| 0.24| 62.3|   57|3.95|3.98|2.47|2.0|  1.0|    6.0| 5.817111159963204|\n",
      "| 0.26| 61.9|   55|4.07|4.11|2.53|2.0|  2.0|    2.0| 5.820082930352362|\n",
      "| 0.22| 65.1|   61|3.87|3.78|2.49|0.0|  5.0|    3.0| 5.820082930352362|\n",
      "| 0.23| 59.4|   61| 4.0|4.05|2.39|2.0|  2.0|    4.0| 5.823045895483019|\n",
      "|  0.3| 64.0|   55|4.25|4.28|2.73|1.0|  0.0|    2.0|  5.82600010738045|\n",
      "| 0.23| 62.8|   56|3.93| 3.9|2.46|4.0|  0.0|    4.0|5.8289456176102075|\n",
      "| 0.22| 60.4|   61|3.88|3.84|2.33|3.0|  4.0|    2.0| 5.834810737062605|\n",
      "| 0.31| 62.2|   54|4.35|4.37|2.71|4.0|  0.0|    1.0| 5.840641657373398|\n",
      "|  0.2| 60.2|   62|3.79|3.75|2.27|3.0|  5.0|    1.0|  5.84354441703136|\n",
      "| 0.32| 60.9|   58|4.38|4.42|2.68|3.0|  5.0|    0.0|  5.84354441703136|\n",
      "|  0.3| 62.0|   54|4.31|4.34|2.68|4.0|  1.0|    1.0|5.8522024797744745|\n",
      "|  0.3| 63.4|   54|4.23|4.29| 2.7|1.0|  0.0|    2.0| 5.860786223465865|\n",
      "|  0.3| 63.8|   56|4.23|4.26|2.71|1.0|  0.0|    2.0| 5.860786223465865|\n",
      "|  0.3| 62.7|   59|4.21|4.27|2.66|2.0|  0.0|    2.0| 5.860786223465865|\n",
      "+-----+-----+-----+----+----+----+---+-----+-------+------------------+\n",
      "only showing top 20 rows\n",
      "\n"
     ]
    }
   ],
   "source": [
    "diamonds_df_xformed = transformedTraining.drop(*['cut','color','clarity','price'])\n",
    "diamonds_df_xformed = diamonds_df_xformed.withColumnRenamed(\"cut_idx\",\"cut\").withColumnRenamed(\"color_idx\",\"color\").withColumnRenamed(\"clarity_idx\",\"clarity\")\\\n",
    ".withColumnRenamed(\"log_price\",\"price\")\n",
    "diamonds_df_xformed.show()"
   ]
  },
  {
   "cell_type": "code",
   "execution_count": 7,
   "metadata": {
    "id": "EFgskpnY9BS9"
   },
   "outputs": [],
   "source": [
    "feature_list = []\n",
    "for col in diamonds_df_xformed.columns:\n",
    "    if col == 'price':\n",
    "        continue\n",
    "    else:\n",
    "        feature_list.append(col)"
   ]
  },
  {
   "cell_type": "code",
   "execution_count": 8,
   "metadata": {
    "colab": {
     "base_uri": "https://localhost:8080/",
     "height": 194
    },
    "id": "KDKlAHzK3GkZ",
    "outputId": "68384f3f-9845-46b7-a7b2-0e16a7304f17"
   },
   "outputs": [
    {
     "data": {
      "text/html": [
       "<div>\n",
       "<style scoped>\n",
       "    .dataframe tbody tr th:only-of-type {\n",
       "        vertical-align: middle;\n",
       "    }\n",
       "\n",
       "    .dataframe tbody tr th {\n",
       "        vertical-align: top;\n",
       "    }\n",
       "\n",
       "    .dataframe thead th {\n",
       "        text-align: right;\n",
       "    }\n",
       "</style>\n",
       "<table border=\"1\" class=\"dataframe\">\n",
       "  <thead>\n",
       "    <tr style=\"text-align: right;\">\n",
       "      <th></th>\n",
       "      <th>carat</th>\n",
       "      <th>depth</th>\n",
       "      <th>table</th>\n",
       "      <th>x</th>\n",
       "      <th>y</th>\n",
       "      <th>z</th>\n",
       "      <th>cut</th>\n",
       "      <th>color</th>\n",
       "      <th>clarity</th>\n",
       "      <th>price</th>\n",
       "    </tr>\n",
       "  </thead>\n",
       "  <tbody>\n",
       "    <tr>\n",
       "      <th>0</th>\n",
       "      <td>0.23</td>\n",
       "      <td>61.500000</td>\n",
       "      <td>55</td>\n",
       "      <td>3.95</td>\n",
       "      <td>3.98</td>\n",
       "      <td>2.43</td>\n",
       "      <td>4.0</td>\n",
       "      <td>5.0</td>\n",
       "      <td>1.0</td>\n",
       "      <td>5.786897</td>\n",
       "    </tr>\n",
       "    <tr>\n",
       "      <th>1</th>\n",
       "      <td>0.21</td>\n",
       "      <td>59.799999</td>\n",
       "      <td>61</td>\n",
       "      <td>3.89</td>\n",
       "      <td>3.84</td>\n",
       "      <td>2.31</td>\n",
       "      <td>3.0</td>\n",
       "      <td>5.0</td>\n",
       "      <td>2.0</td>\n",
       "      <td>5.786897</td>\n",
       "    </tr>\n",
       "    <tr>\n",
       "      <th>2</th>\n",
       "      <td>0.23</td>\n",
       "      <td>56.900002</td>\n",
       "      <td>65</td>\n",
       "      <td>4.05</td>\n",
       "      <td>4.07</td>\n",
       "      <td>2.31</td>\n",
       "      <td>1.0</td>\n",
       "      <td>5.0</td>\n",
       "      <td>4.0</td>\n",
       "      <td>5.789960</td>\n",
       "    </tr>\n",
       "    <tr>\n",
       "      <th>3</th>\n",
       "      <td>0.29</td>\n",
       "      <td>62.400002</td>\n",
       "      <td>58</td>\n",
       "      <td>4.20</td>\n",
       "      <td>4.23</td>\n",
       "      <td>2.63</td>\n",
       "      <td>3.0</td>\n",
       "      <td>1.0</td>\n",
       "      <td>3.0</td>\n",
       "      <td>5.811141</td>\n",
       "    </tr>\n",
       "    <tr>\n",
       "      <th>4</th>\n",
       "      <td>0.31</td>\n",
       "      <td>63.299999</td>\n",
       "      <td>58</td>\n",
       "      <td>4.34</td>\n",
       "      <td>4.35</td>\n",
       "      <td>2.75</td>\n",
       "      <td>1.0</td>\n",
       "      <td>0.0</td>\n",
       "      <td>1.0</td>\n",
       "      <td>5.814131</td>\n",
       "    </tr>\n",
       "  </tbody>\n",
       "</table>\n",
       "</div>"
      ],
      "text/plain": [
       "   carat      depth  table     x     y     z  cut  color  clarity     price\n",
       "0   0.23  61.500000     55  3.95  3.98  2.43  4.0    5.0      1.0  5.786897\n",
       "1   0.21  59.799999     61  3.89  3.84  2.31  3.0    5.0      2.0  5.786897\n",
       "2   0.23  56.900002     65  4.05  4.07  2.31  1.0    5.0      4.0  5.789960\n",
       "3   0.29  62.400002     58  4.20  4.23  2.63  3.0    1.0      3.0  5.811141\n",
       "4   0.31  63.299999     58  4.34  4.35  2.75  1.0    0.0      1.0  5.814131"
      ]
     },
     "metadata": {
      "tags": []
     },
     "output_type": "display_data"
    }
   ],
   "source": [
    "# Grading Cell - do not modify\n",
    "display(diamonds_df_xformed.toPandas().head())"
   ]
  },
  {
   "cell_type": "markdown",
   "metadata": {
    "id": "v-N1EcFY3CG2"
   },
   "source": [
    "##### Grading Feedback Cell"
   ]
  },
  {
   "cell_type": "markdown",
   "metadata": {
    "id": "er1V2eZ23Hrp"
   },
   "source": [
    "The following questions will create a random forest regressor model, train the model using a grid search, and use the model for inference.  The goal is to see if we can improve upon the linear regression score from homework 3. You can find the spark documentation for the random forest regressor [here](https://spark.apache.org/docs/latest/ml-classification-regression.html#random-forest-regression)."
   ]
  },
  {
   "cell_type": "markdown",
   "metadata": {
    "id": "0XwLgVI34uP6"
   },
   "source": [
    "# Question 2 (20 pts)\n",
    "Create and train your random forest regressor model using a grid search in the cell below.  You are free to use K-Fold Cross validation if you wish.  Your grid search must be entirely encapsulated in the `if enable_grid_search` if statement.  The `enable_grid_search` Boolean is defined in a grading cell above.  You will disable the grid search before you submit by setting enable_grid_search to false.  Setting enable_grid_search to false should not result in a runtime error.  You will not receive full credit if any part of your grid search is outside of the if statement or if runtime errros result from setting the `enable_grid_search` variable to false."
   ]
  },
  {
   "cell_type": "code",
   "execution_count": 9,
   "metadata": {
    "id": "7gfVl99j47Sy"
   },
   "outputs": [],
   "source": [
    "# your code here\n",
    "if enable_grid_search:\n",
    "  training_df, testing_df = diamonds_df_xformed.randomSplit([0.6, 0.4], seed=7)\n",
    "  va = VectorAssembler().setInputCols(feature_list).setOutputCol('features')\n",
    "  rf = RandomForestRegressor(labelCol=\"price\",featuresCol=\"features\")\n",
    "\n",
    "  rf_pipeline = Pipeline(stages=[va,rf])\n",
    "  \n",
    "  paramGrid = ParamGridBuilder().addGrid(rf.numTrees, [int(x) for x in [25,30]])\\\n",
    "  .addGrid(rf.maxDepth, [int(x) for x in [10,15]]).build()\n",
    "\n",
    "  crossval = CrossValidator(estimator=rf_pipeline,\n",
    "                            estimatorParamMaps=paramGrid,\n",
    "                            evaluator=RegressionEvaluator(labelCol=\"price\"),\n",
    "                            numFolds=3)\n",
    "  \n",
    "  cvModel = crossval.fit(training_df)\n",
    "  predictions = cvModel.transform(testing_df)\n",
    "\n",
    "  bestPipeline = cvModel.bestModel\n",
    "  bestModel = bestPipeline.stages[1]\n",
    "  print('numTrees - ', bestModel.getNumTrees)\n",
    "  print('maxDepth - ', bestModel.getOrDefault('maxDepth'))\n",
    "  evaluator = RegressionEvaluator(labelCol=\"price\", predictionCol=\"prediction\", metricName=\"mse\")\n",
    "  mse = evaluator.evaluate(predictions)\n",
    "  print(mse)\n",
    "  \n",
    "  pass"
   ]
  },
  {
   "cell_type": "markdown",
   "metadata": {
    "id": "KVFHESWM544r"
   },
   "source": [
    "##### Grading Feedback Cell"
   ]
  },
  {
   "cell_type": "markdown",
   "metadata": {
    "id": "MQcJEwqw57e6"
   },
   "source": [
    "# Question 3 (20 pts)\n",
    "Create a pipeline named `best_pipe` that hard codes the tuning parameters from the best model found by the grid search in question 2 above.  Train and test best_pipe.  Do not use k-fold cross validation in question 3.  Clearly print the resulting train and test MSE for best_pipe so it's easy for the graders to see your resulting MSEs."
   ]
  },
  {
   "cell_type": "code",
   "execution_count": 10,
   "metadata": {
    "colab": {
     "base_uri": "https://localhost:8080/"
    },
    "id": "OM-nZSd775bT",
    "outputId": "742ac14c-2200-4e10-f8c7-771184ad6587"
   },
   "outputs": [
    {
     "name": "stdout",
     "output_type": "stream",
     "text": [
      "Root Mean Squared Error (MSE) on test data = 0.0111432\n",
      "Root Mean Squared Error (MSE) on train data = 0.0052335\n"
     ]
    }
   ],
   "source": [
    "# Your code here\n",
    "training_df, testing_df = diamonds_df_xformed.randomSplit([0.6, 0.4], seed=7)\n",
    "va = VectorAssembler().setInputCols(feature_list).setOutputCol('features')\n",
    "rf = RandomForestRegressor(labelCol=\"price\",featuresCol=\"features\",numTrees= 30 , maxDepth= 15)\n",
    "best_pipe = Pipeline(stages=[va,rf])\n",
    "\n",
    "model = best_pipe.fit(training_df)\n",
    "predictions = model.transform(testing_df)\n",
    "evaluator = RegressionEvaluator(\n",
    "    labelCol=\"price\", predictionCol=\"prediction\", metricName=\"mse\")\n",
    "mse_rf = evaluator.evaluate(predictions)\n",
    "print(\"Root Mean Squared Error (MSE) on test data = %g\" % mse_rf)\n",
    "predictions2 = model.transform(training_df)\n",
    "mse_rf2 = evaluator.evaluate(predictions2)\n",
    "print(\"Root Mean Squared Error (MSE) on train data = %g\" % mse_rf2)"
   ]
  },
  {
   "cell_type": "markdown",
   "metadata": {
    "id": "eN6MAsAZ77vr"
   },
   "source": [
    "##### Grading Feedback Cell"
   ]
  },
  {
   "cell_type": "markdown",
   "metadata": {
    "id": "feuCoidR8HqE"
   },
   "source": [
    "# Question 4 (20 pts)\n",
    "Use your best_pipe pipeline in question 3 for inference.  Create a pandas data frame named `rf_feature_importance` which contains 2 columns: `feature`, and `importance`.  Load the feature column with the feature name and the importance column with the feature importance score as determined by the random forest model. Sort the feature importances from high to low such that the most important feature is in the first row of the data frame."
   ]
  },
  {
   "cell_type": "code",
   "execution_count": 11,
   "metadata": {
    "id": "C6pdzDU58JN0"
   },
   "outputs": [],
   "source": [
    "# your code here\n",
    "rf_model = model.stages[-1]\n",
    "rf_feature_importance = pd.DataFrame(list(zip(feature_list, rf_model.featureImportances.toArray())),\n",
    "                                     columns = ['feature', 'importance']).sort_values('importance',ascending=False)"
   ]
  },
  {
   "cell_type": "code",
   "execution_count": 12,
   "metadata": {
    "colab": {
     "base_uri": "https://localhost:8080/"
    },
    "id": "GPuNteiZc2za",
    "outputId": "5a86ff18-59ca-4ad2-9850-bc1d6570b6c9"
   },
   "outputs": [
    {
     "name": "stdout",
     "output_type": "stream",
     "text": [
      "['carat', 'depth', 'table', 'x', 'y', 'z', 'cut', 'color', 'clarity']\n"
     ]
    }
   ],
   "source": [
    "print(feature_list)"
   ]
  },
  {
   "cell_type": "code",
   "execution_count": 13,
   "metadata": {
    "colab": {
     "base_uri": "https://localhost:8080/",
     "height": 311
    },
    "id": "VXD8OV-J9MSP",
    "outputId": "bdf628e2-62bd-4755-f8c4-c0337017b0f1"
   },
   "outputs": [
    {
     "data": {
      "text/html": [
       "<div>\n",
       "<style scoped>\n",
       "    .dataframe tbody tr th:only-of-type {\n",
       "        vertical-align: middle;\n",
       "    }\n",
       "\n",
       "    .dataframe tbody tr th {\n",
       "        vertical-align: top;\n",
       "    }\n",
       "\n",
       "    .dataframe thead th {\n",
       "        text-align: right;\n",
       "    }\n",
       "</style>\n",
       "<table border=\"1\" class=\"dataframe\">\n",
       "  <thead>\n",
       "    <tr style=\"text-align: right;\">\n",
       "      <th></th>\n",
       "      <th>feature</th>\n",
       "      <th>importance</th>\n",
       "    </tr>\n",
       "  </thead>\n",
       "  <tbody>\n",
       "    <tr>\n",
       "      <th>4</th>\n",
       "      <td>y</td>\n",
       "      <td>0.411559</td>\n",
       "    </tr>\n",
       "    <tr>\n",
       "      <th>0</th>\n",
       "      <td>carat</td>\n",
       "      <td>0.287167</td>\n",
       "    </tr>\n",
       "    <tr>\n",
       "      <th>5</th>\n",
       "      <td>z</td>\n",
       "      <td>0.126911</td>\n",
       "    </tr>\n",
       "    <tr>\n",
       "      <th>3</th>\n",
       "      <td>x</td>\n",
       "      <td>0.123147</td>\n",
       "    </tr>\n",
       "    <tr>\n",
       "      <th>8</th>\n",
       "      <td>clarity</td>\n",
       "      <td>0.029337</td>\n",
       "    </tr>\n",
       "    <tr>\n",
       "      <th>7</th>\n",
       "      <td>color</td>\n",
       "      <td>0.014071</td>\n",
       "    </tr>\n",
       "    <tr>\n",
       "      <th>6</th>\n",
       "      <td>cut</td>\n",
       "      <td>0.003255</td>\n",
       "    </tr>\n",
       "    <tr>\n",
       "      <th>1</th>\n",
       "      <td>depth</td>\n",
       "      <td>0.002630</td>\n",
       "    </tr>\n",
       "    <tr>\n",
       "      <th>2</th>\n",
       "      <td>table</td>\n",
       "      <td>0.001924</td>\n",
       "    </tr>\n",
       "  </tbody>\n",
       "</table>\n",
       "</div>"
      ],
      "text/plain": [
       "   feature  importance\n",
       "4        y    0.411559\n",
       "0    carat    0.287167\n",
       "5        z    0.126911\n",
       "3        x    0.123147\n",
       "8  clarity    0.029337\n",
       "7    color    0.014071\n",
       "6      cut    0.003255\n",
       "1    depth    0.002630\n",
       "2    table    0.001924"
      ]
     },
     "metadata": {
      "tags": []
     },
     "output_type": "display_data"
    }
   ],
   "source": [
    "# grading cell - do not modify\n",
    "display(rf_feature_importance)"
   ]
  },
  {
   "cell_type": "markdown",
   "metadata": {
    "id": "rM7mpmBD86Dk"
   },
   "source": [
    "##### Grading Feedback Cell"
   ]
  },
  {
   "cell_type": "markdown",
   "metadata": {
    "id": "CffkMqE-Y-JM"
   },
   "source": [
    "# Question 5 (20 pts)\n",
    "Write code to print the decision logic for any of the trees in the forest from the best_pipe pipeline.  Copy the printed decision text to the tree printout markdown cell below and retain the same formatting and indentation as the code printout so it's easy for the graders to view the data.  You need to double click the \"Your Decision Tree Print Out Here\" markdown cell and paste your output inside the two sets of triple quotes. The triple quotes are jupyter markdown indicating you want to present code.  Essentially, replace the text inside the triple quotes with your tree printout.  Solutions that do not maintain readable formatting will not receive full credit.\n",
    "\n",
    "Add comments to the markdown cell below describing how the root node is split:  Describe 2 things in the markdown cell.  1) What specific predictor variable is being split and what is the value that determines the left / right split.  2) We need you to paste the tree decision logic output from your run in the markdown cell because the top level split may change from run to run.  If the graders run your notebook, the top level split for the tree may be different than the top level split from when you made the run.  Describe why the top level predictor changes from run to run.\n"
   ]
  },
  {
   "cell_type": "code",
   "execution_count": 14,
   "metadata": {
    "colab": {
     "base_uri": "https://localhost:8080/"
    },
    "id": "fdSHouQAY-JO",
    "outputId": "54d35f91-7c37-4d5c-9027-37b7a3c7af24"
   },
   "outputs": [
    {
     "name": "stdout",
     "output_type": "stream",
     "text": [
      "DecisionTreeRegressionModel: uid=dtr_532870965cdb, depth=5, numNodes=63, numFeatures=9\n",
      "  If (feature 0 <= 0.6949999928474426)\n",
      "   If (feature 3 <= 4.855000019073486)\n",
      "    If (feature 5 <= 2.834999918937683)\n",
      "     If (feature 8 in {0.0,1.0,2.0,3.0,4.0,5.0})\n",
      "      If (feature 3 <= 4.305000066757202)\n",
      "       Predict: 6.300886494284585\n",
      "      Else (feature 3 > 4.305000066757202)\n",
      "       Predict: 6.5323148510684526\n",
      "     Else (feature 8 not in {0.0,1.0,2.0,3.0,4.0,5.0})\n",
      "      If (feature 0 <= 0.29500000178813934)\n",
      "       Predict: 6.367088331952799\n",
      "      Else (feature 0 > 0.29500000178813934)\n",
      "       Predict: 6.776402149873627\n",
      "    Else (feature 5 > 2.834999918937683)\n",
      "     If (feature 8 in {0.0,1.0,2.0,3.0})\n",
      "      If (feature 3 <= 4.704999923706055)\n",
      "       Predict: 6.5787314077839065\n",
      "      Else (feature 3 > 4.704999923706055)\n",
      "       Predict: 6.719475326723084\n",
      "     Else (feature 8 not in {0.0,1.0,2.0,3.0})\n",
      "      If (feature 7 in {0.0,1.0,2.0})\n",
      "       Predict: 6.770476594042477\n",
      "      Else (feature 7 not in {0.0,1.0,2.0})\n",
      "       Predict: 6.994278654599337\n",
      "   Else (feature 3 > 4.855000019073486)\n",
      "    If (feature 0 <= 0.5049999952316284)\n",
      "     If (feature 5 <= 3.0049999952316284)\n",
      "      If (feature 4 <= 5.075000047683716)\n",
      "       Predict: 6.952220173567329\n",
      "      Else (feature 4 > 5.075000047683716)\n",
      "       Predict: 7.154104448990071\n",
      "     Else (feature 5 > 3.0049999952316284)\n",
      "      If (feature 8 in {0.0,1.0,2.0})\n",
      "       Predict: 7.032059620231889\n",
      "      Else (feature 8 not in {0.0,1.0,2.0})\n",
      "       Predict: 7.333186594931939\n",
      "    Else (feature 0 > 0.5049999952316284)\n",
      "     If (feature 4 <= 5.255000114440918)\n",
      "      If (feature 4 <= 5.075000047683716)\n",
      "       Predict: 7.277316794692868\n",
      "      Else (feature 4 > 5.075000047683716)\n",
      "       Predict: 7.381495772281566\n",
      "     Else (feature 4 > 5.255000114440918)\n",
      "      If (feature 3 <= 5.3450000286102295)\n",
      "       Predict: 7.456471446505769\n",
      "      Else (feature 3 > 5.3450000286102295)\n",
      "       Predict: 7.561505364027624\n",
      "  Else (feature 0 > 0.6949999928474426)\n",
      "   If (feature 4 <= 6.744999885559082)\n",
      "    If (feature 4 <= 6.194999933242798)\n",
      "     If (feature 0 <= 0.8449999988079071)\n",
      "      If (feature 3 <= 5.694999933242798)\n",
      "       Predict: 7.785782739488231\n",
      "      Else (feature 3 > 5.694999933242798)\n",
      "       Predict: 7.931106338185216\n",
      "     Else (feature 0 > 0.8449999988079071)\n",
      "      If (feature 8 in {0.0})\n",
      "       Predict: 7.5407952938019776\n",
      "      Else (feature 8 not in {0.0})\n",
      "       Predict: 8.234817613949547\n",
      "    Else (feature 4 > 6.194999933242798)\n",
      "     If (feature 8 in {0.0,1.0,2.0})\n",
      "      If (feature 0 <= 0.9950000047683716)\n",
      "       Predict: 8.263607838671646\n",
      "      Else (feature 0 > 0.9950000047683716)\n",
      "       Predict: 8.421062804231127\n",
      "     Else (feature 8 not in {0.0,1.0,2.0})\n",
      "      If (feature 8 in {3.0,4.0})\n",
      "       Predict: 8.69609346229021\n",
      "      Else (feature 8 not in {3.0,4.0})\n",
      "       Predict: 9.064217482799965\n",
      "   Else (feature 4 > 6.744999885559082)\n",
      "    If (feature 3 <= 7.325000047683716)\n",
      "     If (feature 4 <= 7.045000076293945)\n",
      "      If (feature 7 in {0.0,1.0,2.0})\n",
      "       Predict: 8.651462624464651\n",
      "      Else (feature 7 not in {0.0,1.0,2.0})\n",
      "       Predict: 8.978457491035089\n",
      "     Else (feature 4 > 7.045000076293945)\n",
      "      If (feature 8 in {0.0,1.0})\n",
      "       Predict: 8.847192695863322\n",
      "      Else (feature 8 not in {0.0,1.0})\n",
      "       Predict: 9.209475350136753\n",
      "    Else (feature 3 > 7.325000047683716)\n",
      "     If (feature 3 <= 8.045000076293945)\n",
      "      If (feature 8 in {0.0,1.0})\n",
      "       Predict: 9.12359109832923\n",
      "      Else (feature 8 not in {0.0,1.0})\n",
      "       Predict: 9.398220321012637\n",
      "     Else (feature 3 > 8.045000076293945)\n",
      "      If (feature 6 in {0.0})\n",
      "       Predict: 9.408819664778557\n",
      "      Else (feature 6 not in {0.0})\n",
      "       Predict: 9.6113411934226\n",
      "\n"
     ]
    }
   ],
   "source": [
    "# your code here\n",
    "training_df, testing_df = diamonds_df_xformed.randomSplit([0.6, 0.4], seed=7)\n",
    "va = VectorAssembler().setInputCols(feature_list).setOutputCol('features')\n",
    "rf = RandomForestRegressor(labelCol=\"price\",featuresCol=\"features\")\n",
    "best_pipe = Pipeline(stages=[va,rf])\n",
    "model = best_pipe.fit(training_df)\n",
    "rf_model = model.stages[-1]\n",
    "len(rf_model.trees)\n",
    "print(rf_model.trees[0].toDebugString)"
   ]
  },
  {
   "cell_type": "markdown",
   "metadata": {
    "id": "ak8DUZdvb8jA"
   },
   "source": [
    "\n",
    "\n",
    "```\n",
    "DecisionTreeRegressionModel: uid=dtr_1d5cf945f62d, depth=5, numNodes=63, numFeatures=9\n",
    "  If (feature 4 <= 5.694999933242798)\n",
    "   If (feature 5 <= 2.9950000047683716)\n",
    "    If (feature 5 <= 2.834999918937683)\n",
    "     If (feature 5 <= 2.625)\n",
    "      If (feature 4 <= 4.255000114440918)\n",
    "       Predict: 6.26336079504394\n",
    "      Else (feature 4 > 4.255000114440918)\n",
    "       Predict: 6.457152306446421\n",
    "     Else (feature 5 > 2.625)\n",
    "      If (feature 3 <= 4.3450000286102295)\n",
    "       Predict: 6.4652104428683606\n",
    "      Else (feature 3 > 4.3450000286102295)\n",
    "       Predict: 6.603775459504828\n",
    "    Else (feature 5 > 2.834999918937683)\n",
    "     If (feature 3 <= 4.694999933242798)\n",
    "      If (feature 7 in {0.0,1.0,2.0})\n",
    "       Predict: 6.559656376328727\n",
    "      Else (feature 7 not in {0.0,1.0,2.0})\n",
    "       Predict: 6.75874519838659\n",
    "     Else (feature 3 > 4.694999933242798)\n",
    "      If (feature 7 in {0.0,1.0,2.0})\n",
    "       Predict: 6.727517527584509\n",
    "      Else (feature 7 not in {0.0,1.0,2.0})\n",
    "       Predict: 6.904558071067402\n",
    "   Else (feature 5 > 2.9950000047683716)\n",
    "    If (feature 0 <= 0.4950000047683716)\n",
    "     If (feature 4 <= 4.855000019073486)\n",
    "      If (feature 6 in {0.0,1.0,2.0})\n",
    "       Predict: 6.7531461889478335\n",
    "      Else (feature 6 not in {0.0,1.0,2.0})\n",
    "       Predict: 6.894183089754366\n",
    "     Else (feature 4 > 4.855000019073486)\n",
    "      If (feature 7 in {0.0,1.0,2.0,4.0})\n",
    "       Predict: 6.869828323672314\n",
    "      Else (feature 7 not in {0.0,1.0,2.0,4.0})\n",
    "       Predict: 7.095892006854079\n",
    "    Else (feature 0 > 0.4950000047683716)\n",
    "     If (feature 3 <= 5.545000076293945)\n",
    "      If (feature 8 in {0.0,1.0,2.0})\n",
    "       Predict: 7.201574360365427\n",
    "      Else (feature 8 not in {0.0,1.0,2.0})\n",
    "       Predict: 7.516769795222332\n",
    "     Else (feature 3 > 5.545000076293945)\n",
    "      If (feature 1 <= 66.14999771118164)\n",
    "       Predict: 7.744220811779731\n",
    "      Else (feature 1 > 66.14999771118164)\n",
    "       Predict: 7.186405444034211\n",
    "  Else (feature 4 > 5.694999933242798)\n",
    "   If (feature 3 <= 6.855000019073486)\n",
    "    If (feature 4 <= 6.164999961853027)\n",
    "     If (feature 3 <= 5.994999885559082)\n",
    "      If (feature 5 <= 4.144999980926514)\n",
    "       Predict: 7.919023654796459\n",
    "      Else (feature 5 > 4.144999980926514)\n",
    "       Predict: 6.148468295917458\n",
    "     Else (feature 3 > 5.994999885559082)\n",
    "      If (feature 5 <= 3.7050000429153442)\n",
    "       Predict: 7.925798217945129\n",
    "      Else (feature 5 > 3.7050000429153442)\n",
    "       Predict: 8.20488837347516\n",
    "    Else (feature 4 > 6.164999961853027)\n",
    "     If (feature 8 in {0.0,1.0,2.0})\n",
    "      If (feature 7 in {0.0,1.0})\n",
    "       Predict: 8.314590112323133\n",
    "      Else (feature 7 not in {0.0,1.0})\n",
    "       Predict: 8.431009468865863\n",
    "     Else (feature 8 not in {0.0,1.0,2.0})\n",
    "      If (feature 8 in {3.0,4.0})\n",
    "       Predict: 8.711271673279022\n",
    "      Else (feature 8 not in {3.0,4.0})\n",
    "       Predict: 9.087604846422645\n",
    "   Else (feature 3 > 6.855000019073486)\n",
    "    If (feature 3 <= 7.325000047683716)\n",
    "     If (feature 8 in {0.0,1.0,2.0})\n",
    "      If (feature 5 <= 4.3450000286102295)\n",
    "       Predict: 8.646650593784521\n",
    "      Else (feature 5 > 4.3450000286102295)\n",
    "       Predict: 8.919184896721251\n",
    "     Else (feature 8 not in {0.0,1.0,2.0})\n",
    "      If (feature 3 <= 7.0350000858306885)\n",
    "       Predict: 9.036203943260112\n",
    "      Else (feature 3 > 7.0350000858306885)\n",
    "       Predict: 9.235303892268535\n",
    "    Else (feature 3 > 7.325000047683716)\n",
    "     If (feature 5 <= 4.625)\n",
    "      If (feature 8 in {0.0,1.0})\n",
    "       Predict: 8.990546586516505\n",
    "      Else (feature 8 not in {0.0,1.0})\n",
    "       Predict: 9.327282325328424\n",
    "     Else (feature 5 > 4.625)\n",
    "      If (feature 8 in {0.0})\n",
    "       Predict: 8.959381087630936\n",
    "      Else (feature 8 not in {0.0})\n",
    "       Predict: 9.531196597710816\n",
    "```\n",
    "\n"
   ]
  },
  {
   "cell_type": "markdown",
   "metadata": {
    "id": "188uN7IeBKPG"
   },
   "source": [
    "### Explain"
   ]
  },
  {
   "cell_type": "markdown",
   "metadata": {
    "id": "2Zk7F0xfY-JR"
   },
   "source": [
    "Your explanation here:\n",
    "\n",
    "1. What specific predictor variable is being split and what is the value that determines the left / right split. \n",
    "\n",
    "- When we training the model we will compute how much each feature contributes to decreasing the impurity. The first feature has been split can be seen as the most important feature. From the random forest model rsult, feature 4 is the first feature, thus the 'y' variable has been split. \n",
    "- The value that determines left and right is 5.69, if the value of feature 4 less than 5.69, it will be concluded as left; if the value of feature 4 larger than 5.69, it will be concluded as right.\n",
    "\n",
    "2. Logic \n",
    "\n",
    "Logic one\n",
    "```\n",
    "If (feature 4 <= 5.694999933242798)\n",
    "   If (feature 5 <= 2.9950000047683716)\n",
    "    If (feature 5 <= 2.834999918937683)\n",
    "     If (feature 5 <= 2.625)\n",
    "      If (feature 4 <= 4.255000114440918)\n",
    "       Predict: 6.26336079504394\n",
    "```\n",
    "Logic Two\n",
    "```\n",
    "          Else (feature 4 > 4.255000114440918)\n",
    "       Predict: 6.457152306446421\n",
    "```\n",
    "Logic Three\n",
    "```\n",
    "      Else (feature 5 > 2.625)\n",
    "       If (feature 3 <= 4.3450000286102295)\n",
    "        Predict: 6.4652104428683606\n",
    "```"
   ]
  },
  {
   "cell_type": "markdown",
   "metadata": {
    "id": "dY9dGVEr9ild"
   },
   "source": [
    "# Question 6 (5 pts)\n",
    "Describe if the random forest model MSE score was better or worse than the MSE score from you best model in homework 3.  Include both scores in your description."
   ]
  },
  {
   "cell_type": "markdown",
   "metadata": {
    "id": "Ow6DkSXa97hd"
   },
   "source": [
    "Your improvement explanation here:  \n",
    "\n",
    "\n",
    "*   MSE from the HW3 is 0.0355\n",
    "*   MSE after the grid search is 0.0114\n",
    "\n",
    "The lower Mse shows that the Random forest provides a better result than linear regression, which means random forest model has a better performance than the linear model.\n",
    "\n",
    "\n",
    "\n"
   ]
  },
  {
   "cell_type": "markdown",
   "metadata": {
    "id": "QIKoaPczcLbm"
   },
   "source": [
    "##### Grading Feedback Cell"
   ]
  },
  {
   "cell_type": "markdown",
   "metadata": {
    "id": "3a7l7Rae7637"
   },
   "source": [
    "# Question 7 (5 pts)\n",
    "Set the `enable_grid_search` Boolean variable to False in the grading cell at the top of this notebook.  Perform a __Runtime -> factory reset__, __Runtime -> Run all__ test to verify there are no runtime errors.  Leave the `enable_grid_search` variable set to False and turn in your assignment.  This is the kind of thing you should be doing before you turn in every assignment. Remember this for future classes and when you get a job in industry.  This question will be graded as all or nothing.  You ether set the Boolean correct or not.  Additional points will be deducted elsewhere for runtime errors."
   ]
  },
  {
   "cell_type": "markdown",
   "metadata": {
    "id": "-H7AIcpJ96Y7"
   },
   "source": [
    "# Extra Credit (10 pts)\n",
    "This homework was intended to take less time to complete and be about half the effort of previous assignments.  This doesn't allow us to explore GBT or deep learning.  \n",
    "\n",
    "For extra credit, train a GBT or Deep Learning model using a grid search.  Protect the grid search inside the if enable_grid_search statement in the first code cell below.  You are free to use K-Fold cross validation if you wish.  The spark documentation for GBM can be found [here](https://spark.apache.org/docs/latest/ml-classification-regression.html#gradient-boosted-tree-classifier).  The spark documentation for deep learning can be found [here](https://spark.apache.org/docs/latest/ml-classification-regression.html#multilayer-perceptron-classifier)\n",
    "\n",
    "In the second code cell below, hard code the best model parameters as determined by the grid search in a new pipeline named `best_pipe_2`.  Train and test `best_pipe_2` and save your resulting test MSE in a variable.  Do not use K-Fold cross validation when training best_pipe_2.  \n",
    "\n",
    "In the third code cell below, create a pandas data frame named `compare_1_df` which contains 2 columns: Model and MSE.  Populate the Model column with model names: LR, RF, GBT or DL.  Populate the score column with the linear regression, random forest, and gradient boosted tree or deep learning test MSE scores. The linear regression score is from homework 3. The random forest score is from the random forest model above.  The GBT or Deep Learning score is from this extra credit problem.  Sort compare_1_df such that the best score is in the first row of the data frame. \n",
    "\n",
    "To get full credit, your GBT or deep learning solution should produce a score as good or better than the random forest score above.  In addition, the same rules as above apply where all of your grid search code shall be protected by the enable_grid_search Boolean.  Code that produces a runtime error when enable_grid_search is set to False will get 0 credit."
   ]
  },
  {
   "cell_type": "code",
   "execution_count": 15,
   "metadata": {
    "id": "qjoUMwaRWi3E"
   },
   "outputs": [],
   "source": [
    "# Your GBT / Deep Learning grid search code here\n",
    "if enable_grid_search:\n",
    "  training_df, testing_df = diamonds_df_xformed.randomSplit([0.6, 0.4], seed=7)\n",
    "\n",
    "  va = VectorAssembler().setInputCols(feature_list).setOutputCol('features')\n",
    "  \n",
    "  gbt = GBTRegressor(featuresCol='features',labelCol='price')\n",
    "\n",
    "  gbt_pipeline = Pipeline(stages=[va,gbt])\n",
    "  \n",
    "  paramGrid = ParamGridBuilder().addGrid(gbt.maxDepth, [10,13]).addGrid(gbt.maxBins, [30,35]).build()\n",
    "\n",
    "  crossval = CrossValidator(estimator = gbt_pipeline,\n",
    "                            estimatorParamMaps = paramGrid,\n",
    "                            evaluator = RegressionEvaluator(labelCol=\"price\"),\n",
    "                            numFolds=3)\n",
    "  \n",
    "  cvModel = crossval.fit(training_df)\n",
    "  predictions = cvModel.transform(testing_df)\n",
    "\n",
    "  bestPipeline = cvModel.bestModel\n",
    "  bestModel = bestPipeline.stages[1]\n",
    "  print('maxBins - ', bestModel.getOrDefault('maxBins'))\n",
    "  print('maxDepth - ', bestModel.getOrDefault('maxDepth'))\n",
    "  evaluator = RegressionEvaluator(labelCol=\"price\", predictionCol=\"prediction\", metricName=\"mse\")\n",
    "  mse = evaluator.evaluate(predictions)\n",
    "  print(\"Root Mean Squared Error (MSE) on test data = %g\" % mse)\n",
    "\n",
    "  pass"
   ]
  },
  {
   "cell_type": "code",
   "execution_count": 16,
   "metadata": {
    "colab": {
     "base_uri": "https://localhost:8080/"
    },
    "id": "gCgt5D0kedOa",
    "outputId": "c971d289-f352-4005-fbd8-81219693bdb0"
   },
   "outputs": [
    {
     "name": "stdout",
     "output_type": "stream",
     "text": [
      "Mean Squared Error (MSE) on test data = 0.0118628\n"
     ]
    }
   ],
   "source": [
    "# your hard coded parameter best model code here\n",
    "training_df, testing_df = diamonds_df_xformed.randomSplit([0.6, 0.4], seed=7)\n",
    "\n",
    "va = VectorAssembler().setInputCols(feature_list).setOutputCol('features')\n",
    "gbt = GBTRegressor(featuresCol='features',labelCol='price', maxDepth = 10, maxBins = 35)\n",
    "best_pipe = Pipeline(stages=[va,gbt])\n",
    "\n",
    "best_pipe_2 = best_pipe.fit(training_df)\n",
    "predictions = best_pipe_2.transform(testing_df)\n",
    "\n",
    "evaluator = RegressionEvaluator(\n",
    "    labelCol=\"price\", predictionCol=\"prediction\", metricName=\"mse\")\n",
    "\n",
    "mse_gbt = evaluator.evaluate(predictions)\n",
    "print(\"Mean Squared Error (MSE) on test data = %g\" % mse_gbt)"
   ]
  },
  {
   "cell_type": "code",
   "execution_count": 17,
   "metadata": {
    "id": "kXeWOkdNiMFb"
   },
   "outputs": [],
   "source": [
    "# Create compare_1_df\n",
    "model = ['LR','RF','GBT']\n",
    "score = [0.035473544018858036,mse_rf,mse_gbt]\n",
    "compare_1_df = pd.DataFrame(list(zip(model, score)),columns = ['Model', 'MSE']).sort_values('MSE')"
   ]
  },
  {
   "cell_type": "code",
   "execution_count": 18,
   "metadata": {
    "colab": {
     "base_uri": "https://localhost:8080/",
     "height": 135
    },
    "id": "UqwK_dTdgxlC",
    "outputId": "168cb22c-d50e-4424-b8e8-6f9cf73032f3"
   },
   "outputs": [
    {
     "data": {
      "text/html": [
       "<div>\n",
       "<style scoped>\n",
       "    .dataframe tbody tr th:only-of-type {\n",
       "        vertical-align: middle;\n",
       "    }\n",
       "\n",
       "    .dataframe tbody tr th {\n",
       "        vertical-align: top;\n",
       "    }\n",
       "\n",
       "    .dataframe thead th {\n",
       "        text-align: right;\n",
       "    }\n",
       "</style>\n",
       "<table border=\"1\" class=\"dataframe\">\n",
       "  <thead>\n",
       "    <tr style=\"text-align: right;\">\n",
       "      <th></th>\n",
       "      <th>Model</th>\n",
       "      <th>MSE</th>\n",
       "    </tr>\n",
       "  </thead>\n",
       "  <tbody>\n",
       "    <tr>\n",
       "      <th>1</th>\n",
       "      <td>RF</td>\n",
       "      <td>0.011143</td>\n",
       "    </tr>\n",
       "    <tr>\n",
       "      <th>2</th>\n",
       "      <td>GBT</td>\n",
       "      <td>0.011863</td>\n",
       "    </tr>\n",
       "    <tr>\n",
       "      <th>0</th>\n",
       "      <td>LR</td>\n",
       "      <td>0.035474</td>\n",
       "    </tr>\n",
       "  </tbody>\n",
       "</table>\n",
       "</div>"
      ],
      "text/plain": [
       "  Model       MSE\n",
       "1    RF  0.011143\n",
       "2   GBT  0.011863\n",
       "0    LR  0.035474"
      ]
     },
     "metadata": {
      "tags": []
     },
     "output_type": "display_data"
    }
   ],
   "source": [
    "# Grading cell do not modify\n",
    "display(compare_1_df)"
   ]
  },
  {
   "cell_type": "markdown",
   "metadata": {
    "id": "16UBIv4DfDLL"
   },
   "source": []
  }
 ],
 "metadata": {
  "colab": {
   "collapsed_sections": [],
   "name": "IST-718 Fall 2020 Homework 6.ipynb",
   "provenance": []
  },
  "kernelspec": {
   "display_name": "Python 3",
   "language": "python",
   "name": "python3"
  },
  "language_info": {
   "codemirror_mode": {
    "name": "ipython",
    "version": 3
   },
   "file_extension": ".py",
   "mimetype": "text/x-python",
   "name": "python",
   "nbconvert_exporter": "python",
   "pygments_lexer": "ipython3",
   "version": "3.8.0"
  }
 },
 "nbformat": 4,
 "nbformat_minor": 1
}
